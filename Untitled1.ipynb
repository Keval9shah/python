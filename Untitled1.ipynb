{
  "nbformat": 4,
  "nbformat_minor": 0,
  "metadata": {
    "colab": {
      "name": "Untitled1.ipynb",
      "provenance": [],
      "toc_visible": true,
      "authorship_tag": "ABX9TyPmsFWAawJ+Flk6gxgL1XSt",
      "include_colab_link": true
    },
    "kernelspec": {
      "name": "python3",
      "display_name": "Python 3"
    }
  },
  "cells": [
    {
      "cell_type": "markdown",
      "metadata": {
        "id": "view-in-github",
        "colab_type": "text"
      },
      "source": [
        "<a href=\"https://colab.research.google.com/github/Keval9shah/python/blob/master/Untitled1.ipynb\" target=\"_parent\"><img src=\"https://colab.research.google.com/assets/colab-badge.svg\" alt=\"Open In Colab\"/></a>"
      ]
    },
    {
      "cell_type": "markdown",
      "metadata": {
        "id": "ppqLt9LVkbEk",
        "colab_type": "text"
      },
      "source": [
        "## College Stuff"
      ]
    },
    {
      "cell_type": "code",
      "metadata": {
        "id": "etu01zfddUUd",
        "colab_type": "code",
        "colab": {}
      },
      "source": [
        "array=[\"Hi \",\"My \",\"name \",\"is \",\"Keval\"]\n",
        "for n in array:\n",
        " print(n,end=\"\")"
      ],
      "execution_count": null,
      "outputs": []
    },
    {
      "cell_type": "code",
      "metadata": {
        "id": "1-2Fkx66eg19",
        "colab_type": "code",
        "colab": {}
      },
      "source": [
        "cn=7+9j\n",
        "print(cn**2)"
      ],
      "execution_count": null,
      "outputs": []
    },
    {
      "cell_type": "code",
      "metadata": {
        "id": "bXVB-SsfhVGL",
        "colab_type": "code",
        "colab": {}
      },
      "source": [
        "if not 2==5:\n",
        "  print(\"hi\")"
      ],
      "execution_count": null,
      "outputs": []
    },
    {
      "cell_type": "code",
      "metadata": {
        "id": "GNT_rdbHlYOh",
        "colab_type": "code",
        "colab": {}
      },
      "source": [
        "print?"
      ],
      "execution_count": null,
      "outputs": []
    },
    {
      "cell_type": "code",
      "metadata": {
        "id": "zm-Fxw5ZzLbt",
        "colab_type": "code",
        "colab": {}
      },
      "source": [
        "m1=['q',\"rih\",32]\n",
        "print(m1)"
      ],
      "execution_count": null,
      "outputs": []
    },
    {
      "cell_type": "code",
      "metadata": {
        "id": "MwqYkF0AzfEY",
        "colab_type": "code",
        "colab": {}
      },
      "source": [
        "m2=['gfdiuj',84,23,342,m1]\n",
        "m3=m1+m2"
      ],
      "execution_count": null,
      "outputs": []
    },
    {
      "cell_type": "code",
      "metadata": {
        "id": "ujo7pycg0j-O",
        "colab_type": "code",
        "colab": {}
      },
      "source": [
        "print(m1[::-1])"
      ],
      "execution_count": null,
      "outputs": []
    },
    {
      "cell_type": "code",
      "metadata": {
        "id": "psTKOLzY0lVc",
        "colab_type": "code",
        "colab": {}
      },
      "source": [
        "print(m1)"
      ],
      "execution_count": null,
      "outputs": []
    },
    {
      "cell_type": "code",
      "metadata": {
        "id": "3VOqpE6o1c2m",
        "colab_type": "code",
        "colab": {}
      },
      "source": [
        "join=m1+m2\n",
        "print(join)"
      ],
      "execution_count": null,
      "outputs": []
    },
    {
      "cell_type": "code",
      "metadata": {
        "id": "9jUx6Ldp2JyX",
        "colab_type": "code",
        "colab": {}
      },
      "source": [
        "t1=(8,)\n",
        "t2=(7,'oi',4.3)\n",
        "t3=t1+t2\n",
        "print(t3)"
      ],
      "execution_count": null,
      "outputs": []
    },
    {
      "cell_type": "code",
      "metadata": {
        "id": "fC2WuigP3LTv",
        "colab_type": "code",
        "colab": {}
      },
      "source": [
        "set?"
      ],
      "execution_count": null,
      "outputs": []
    },
    {
      "cell_type": "code",
      "metadata": {
        "id": "KMCGg72z53tX",
        "colab_type": "code",
        "colab": {}
      },
      "source": [
        "x=int(\"7\")+4\n",
        "print(x)"
      ],
      "execution_count": null,
      "outputs": []
    },
    {
      "cell_type": "code",
      "metadata": {
        "id": "nIrcm6--7CDa",
        "colab_type": "code",
        "colab": {}
      },
      "source": [
        "set={8,5,3,2,100,6}\n",
        "print(set)"
      ],
      "execution_count": null,
      "outputs": []
    },
    {
      "cell_type": "code",
      "metadata": {
        "id": "zEX3KBuN-R_Q",
        "colab_type": "code",
        "colab": {}
      },
      "source": [
        "print(set)"
      ],
      "execution_count": null,
      "outputs": []
    },
    {
      "cell_type": "code",
      "metadata": {
        "id": "cu7mceS8dckI",
        "colab_type": "code",
        "colab": {}
      },
      "source": [
        "x=[14, 27, 1, 4, 2, 50, 3, 1]\n",
        "y= [2, 4, -4, 3, 1, 1, 14, 27, 50]"
      ],
      "execution_count": null,
      "outputs": []
    },
    {
      "cell_type": "markdown",
      "metadata": {
        "id": "F-3a0Oeiktc5",
        "colab_type": "text"
      },
      "source": [
        "# Level 1"
      ]
    },
    {
      "cell_type": "markdown",
      "metadata": {
        "id": "MTkuwhBRnbu9",
        "colab_type": "text"
      },
      "source": [
        "Problem 1"
      ]
    },
    {
      "cell_type": "code",
      "metadata": {
        "id": "FE1deyvf-UeH",
        "colab_type": "code",
        "colab": {}
      },
      "source": [
        "def solution(x, y):\n",
        "    if len(x)>len(y):\n",
        "      for n in x:\n",
        "        if not(n in y):\n",
        "            return n\n",
        "    if len(y)>len(x):\n",
        "      for n in y:\n",
        "        if not(n in x):\n",
        "            return n\n",
        "solution(x, y)"
      ],
      "execution_count": null,
      "outputs": []
    },
    {
      "cell_type": "markdown",
      "metadata": {
        "id": "QBmy60Adk-X1",
        "colab_type": "text"
      },
      "source": [
        "# Level 2"
      ]
    },
    {
      "cell_type": "markdown",
      "metadata": {
        "id": "xnh5PS8SlK9e",
        "colab_type": "text"
      },
      "source": [
        "Problem 1"
      ]
    },
    {
      "cell_type": "code",
      "metadata": {
        "id": "KF4Jfc_AqRsj",
        "colab_type": "code",
        "colab": {}
      },
      "source": [
        "def base_n (n,b):\n",
        "    if n == 0:\n",
        "        return 0\n",
        "    nums = []\n",
        "    while n:\n",
        "        n, r = divmod(n, b)\n",
        "        nums.append(str(r))\n",
        "    return int(''.join(reversed(nums)))\n",
        "\n",
        "def x(n,b):\n",
        "  sm=n\n",
        "  list=[]\n",
        "  while 1:\n",
        "    ly=sorted(sm)\n",
        "    lx=sorted(sm,reverse=True)\n",
        "    ls=''\n",
        "    for i in ly:\n",
        "      ls+=i\n",
        "    y=int(ls)\n",
        "    lxs=''\n",
        "    for i in lx:\n",
        "      lxs+=i\n",
        "    x=int(lxs)\n",
        "    if b==10:\n",
        "      z=x-y\n",
        "    else:\n",
        "      z=base10(x,b)-base10(y,b)\n",
        "      z=base_n(z,b)\n",
        "    sm=str(z)\n",
        "    while(len(sm)<len(n)):\n",
        "      sm='0'+sm\n",
        "    if sm in list:\n",
        "      return (len(list)-list.index(sm))\n",
        "    else:\n",
        "      list.append(sm)\n",
        "\n",
        "def base10(a,b):\n",
        "  i=0\n",
        "  l=0\n",
        "  while(i<len(str(a))):\n",
        "    l+=int(str(a)[len(str(a))-i-1])*(b**i)\n",
        "    i+=1\n",
        "  return(l)\n",
        "x('1211', 4)"
      ],
      "execution_count": null,
      "outputs": []
    },
    {
      "cell_type": "markdown",
      "metadata": {
        "id": "JuGR4JVGmg2h",
        "colab_type": "text"
      },
      "source": [
        "Problem 2"
      ]
    },
    {
      "cell_type": "code",
      "metadata": {
        "id": "9gj7Lpb8mkCK",
        "colab_type": "code",
        "colab": {}
      },
      "source": [
        ""
      ],
      "execution_count": null,
      "outputs": []
    },
    {
      "cell_type": "markdown",
      "metadata": {
        "id": "CfkK44wUmlMX",
        "colab_type": "text"
      },
      "source": [
        "# stuff"
      ]
    },
    {
      "cell_type": "markdown",
      "metadata": {
        "id": "kQcsRLgUlwwb",
        "colab_type": "text"
      },
      "source": [
        "Rushil's Problem"
      ]
    },
    {
      "cell_type": "code",
      "metadata": {
        "id": "RhL2C0G3KNpN",
        "colab_type": "code",
        "colab": {
          "base_uri": "https://localhost:8080/",
          "height": 35
        },
        "outputId": "f47e112c-1628-43a1-cb99-4dfa22c40bcc"
      },
      "source": [
        "def solution(data, n): \n",
        "      for j in data:\n",
        "          num = data.count(j)\n",
        "          if num > n:\n",
        "              for i in data:\n",
        "                  if i == j:\n",
        "                    f=0\n",
        "                    while(f<num):\n",
        "                      data.remove (j)\n",
        "                      f+=1\n",
        "      print(data)\n",
        "solution([2,3,1,4,1,6,2,3,3,3,3,3,6,1,7],2)"
      ],
      "execution_count": null,
      "outputs": [
        {
          "output_type": "stream",
          "text": [
            "[2, 4, 6, 2, 6, 7]\n"
          ],
          "name": "stdout"
        }
      ]
    },
    {
      "cell_type": "markdown",
      "metadata": {
        "id": "y2jZxIz3l1h4",
        "colab_type": "text"
      },
      "source": [
        "Random Problem from foobar"
      ]
    },
    {
      "cell_type": "code",
      "metadata": {
        "id": "K9Doyf0Sh1n-",
        "colab_type": "code",
        "colab": {}
      },
      "source": [
        "def solution(s):\n",
        "    i = 0\n",
        "    l = 0\n",
        "    jk = len(s)\n",
        "    while(i < jk):\n",
        "        if s[i] == '-':\n",
        "            i += 1\n",
        "        elif s[i] == '>':\n",
        "            m = i\n",
        "            while(m < jk):\n",
        "                if s[m] == '<':\n",
        "                    l += 1\n",
        "                m += 1\n",
        "            i += 1\n",
        "        elif s[i] == '<':\n",
        "            m = 0\n",
        "            while(m < i):\n",
        "                if s[m] == '>':\n",
        "                    l += 1\n",
        "                m += 1\n",
        "            i += 1\n",
        "        else:\n",
        "            print(\"String not correct\")\n",
        "            break\n",
        "            i += 1\n",
        "    print(l)\n",
        "\n",
        "solution(\"--->-><-><-->-\")"
      ],
      "execution_count": null,
      "outputs": []
    }
  ]
}